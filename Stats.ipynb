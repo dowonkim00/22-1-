{
 "cells": [
  {
   "cell_type": "code",
   "execution_count": 3,
   "id": "9e5a2fc2-b23b-4569-a090-57087ee1cefb",
   "metadata": {},
   "outputs": [
    {
     "data": {
      "text/plain": [
       "Index(['Unnamed: 0', 'Year', 'Player', 'Age', 'Tm', 'Pos', 'MVP', 'Share',\n",
       "       'Win_Ratio', 'G', 'MP', 'FG', 'FGA', 'FG%', '3P', '3PA', '3P%', '2P',\n",
       "       '2PA', '2P%', 'eFG%', 'FT', 'FTA', 'FT%', 'ORB', 'DRB', 'TRB', 'AST',\n",
       "       'STL', 'BLK', 'TOV', 'PF', 'PTS', 'PER', 'TS%', '3PAr', 'FTr', 'ORB%',\n",
       "       'DRB%', 'TRB%', 'AST%', 'STL%', 'BLK%', 'TOV%', 'USG%', 'OWS', 'DWS',\n",
       "       'WS', 'WS/48', 'OBPM', 'DBPM', 'BPM', 'VORP'],\n",
       "      dtype='object')"
      ]
     },
     "execution_count": 3,
     "metadata": {},
     "output_type": "execute_result"
    }
   ],
   "source": [
    "import pandas as pd\n",
    "\n",
    "data = pd.read_csv(\"NBA_MVP_votegetters_data.csv\")\n",
    "data.columns"
   ]
  },
  {
   "cell_type": "code",
   "execution_count": 17,
   "id": "cf033588-5331-4d1d-b082-b454a33565b5",
   "metadata": {},
   "outputs": [
    {
     "name": "stderr",
     "output_type": "stream",
     "text": [
      "C:\\Users\\Dowon\\AppData\\Local\\Temp\\ipykernel_13924\\4130576183.py:1: FutureWarning: Dropping of nuisance columns in DataFrame reductions (with 'numeric_only=None') is deprecated; in a future version this will raise TypeError.  Select only valid columns before calling the reduction.\n",
      "  summary = pd.DataFrame([data.mean(), data.std(), data.max(), data.median(), data.min()], index=['Mean', 'Stdev', 'Max', 'Median', 'Min'])\n"
     ]
    }
   ],
   "source": [
    "summary = pd.DataFrame([data.mean(), data.std(), data.max(), data.median(), data.min()], index=['Mean', 'Stdev', 'Max', 'Median', 'Min'])\n",
    "summary = summary.loc[:, 'Share':'VORP']\n",
    "summary.to_csv(\"stats_summary.csv\")"
   ]
  },
  {
   "cell_type": "code",
   "execution_count": 18,
   "id": "49b75de5-58b4-4294-aec7-5da44affde67",
   "metadata": {},
   "outputs": [
    {
     "data": {
      "text/plain": [
       "(5, 46)"
      ]
     },
     "execution_count": 18,
     "metadata": {},
     "output_type": "execute_result"
    }
   ],
   "source": [
    "summary.shape"
   ]
  },
  {
   "cell_type": "code",
   "execution_count": 24,
   "id": "baade548-4510-4122-9447-7208da503968",
   "metadata": {},
   "outputs": [],
   "source": [
    "rounded_summary = round(summary, 3)\n",
    "rounded_summary.loc[:, ['G', 'MP', 'FG', 'FGA', '3P', '3PA',\n",
    "       '2P', '2PA', 'FT', 'FTA', 'ORB', 'DRB', 'TRB',\n",
    "       'AST', 'STL', 'BLK', 'TOV', 'PF', 'PTS', 'PER',\n",
    "       'ORB%', 'DRB%', 'TRB%', 'AST%', 'STL%', 'BLK%', 'TOV%', 'USG%', 'OWS',\n",
    "       'DWS', 'WS', 'OBPM', 'DBPM', 'BPM', 'VORP']] = round(rounded_summary.loc[:, ['G', 'MP', 'FG', 'FGA', '3P', '3PA',\n",
    "       '2P', '2PA', 'FT', 'FTA', 'ORB', 'DRB', 'TRB',\n",
    "       'AST', 'STL', 'BLK', 'TOV', 'PF', 'PTS', 'PER',\n",
    "       'ORB%', 'DRB%', 'TRB%', 'AST%', 'STL%', 'BLK%', 'TOV%', 'USG%', 'OWS',\n",
    "       'DWS', 'WS', 'OBPM', 'DBPM', 'BPM', 'VORP']], 1)\n",
    "rounded_summary.to_csv(\"rounded_summary.csv\")"
   ]
  },
  {
   "cell_type": "code",
   "execution_count": 25,
   "id": "f152a9a1-dd98-4032-8be9-b36180b0be6e",
   "metadata": {},
   "outputs": [
    {
     "data": {
      "text/plain": [
       "(5, 46)"
      ]
     },
     "execution_count": 25,
     "metadata": {},
     "output_type": "execute_result"
    }
   ],
   "source": [
    "rounded_summary.shape"
   ]
  },
  {
   "cell_type": "code",
   "execution_count": null,
   "id": "8a42e75e-80b3-4153-bc02-4a6447d627d8",
   "metadata": {},
   "outputs": [],
   "source": []
  }
 ],
 "metadata": {
  "kernelspec": {
   "display_name": "Python 3 (ipykernel)",
   "language": "python",
   "name": "python3"
  },
  "language_info": {
   "codemirror_mode": {
    "name": "ipython",
    "version": 3
   },
   "file_extension": ".py",
   "mimetype": "text/x-python",
   "name": "python",
   "nbconvert_exporter": "python",
   "pygments_lexer": "ipython3",
   "version": "3.9.12"
  }
 },
 "nbformat": 4,
 "nbformat_minor": 5
}
